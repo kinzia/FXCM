{
  "nbformat": 4,
  "nbformat_minor": 0,
  "metadata": {
    "colab": {
      "name": "FXCM.ipynb",
      "provenance": [],
      "authorship_tag": "ABX9TyMIuQ+3MmslWpu77LHC3aj3",
      "include_colab_link": true
    },
    "kernelspec": {
      "name": "python3",
      "display_name": "Python 3"
    },
    "language_info": {
      "name": "python"
    }
  },
  "cells": [
    {
      "cell_type": "markdown",
      "metadata": {
        "id": "view-in-github",
        "colab_type": "text"
      },
      "source": [
        "<a href=\"https://colab.research.google.com/github/kinzia/FXCM/blob/main/FXCM.ipynb\" target=\"_parent\"><img src=\"https://colab.research.google.com/assets/colab-badge.svg\" alt=\"Open In Colab\"/></a>"
      ]
    },
    {
      "cell_type": "code",
      "metadata": {
        "colab": {
          "base_uri": "https://localhost:8080/"
        },
        "id": "Vd5RP1t9HTUZ",
        "outputId": "01c57cf5-9a61-4262-b1ec-4da1f88c661d"
      },
      "source": [
        "!pip install fxcmpy\n",
        "!pip install python-socketio==4.4\n",
        "!pip install python-engineio==3.9\n",
        "!pip install websocket-client"
      ],
      "execution_count": 2,
      "outputs": [
        {
          "output_type": "stream",
          "text": [
            "Collecting fxcmpy\n",
            "  Downloading https://files.pythonhosted.org/packages/25/2e/ccebeab5fe133c0c903117cb83e96f3e851458ca89010eb6fc2413cf4ac8/fxcmpy-1.2.9-py3-none-any.whl\n",
            "Requirement already satisfied: pandas in /usr/local/lib/python3.7/dist-packages (from fxcmpy) (1.1.5)\n",
            "Collecting configparser\n",
            "  Downloading https://files.pythonhosted.org/packages/fd/01/ff260a18caaf4457eb028c96eeb405c4a230ca06c8ec9c1379f813caa52e/configparser-5.0.2-py3-none-any.whl\n",
            "Collecting python-engineio\n",
            "\u001b[?25l  Downloading https://files.pythonhosted.org/packages/07/2b/d51f2ddd6e4a4b8aca044b23a16ca1ab0d47cc7a4b0b99dab4f047780795/python_engineio-4.2.0-py2.py3-none-any.whl (51kB)\n",
            "\u001b[K     |████████████████████████████████| 61kB 8.6MB/s \n",
            "\u001b[?25hRequirement already satisfied: requests[socks] in /usr/local/lib/python3.7/dist-packages (from fxcmpy) (2.23.0)\n",
            "Collecting python-socketio\n",
            "\u001b[?25l  Downloading https://files.pythonhosted.org/packages/d9/e8/00978e9a578e0727c902efaf69ee98be702adee61c9d2966e0eec257d0a3/python_socketio-5.3.0-py2.py3-none-any.whl (53kB)\n",
            "\u001b[K     |████████████████████████████████| 61kB 9.1MB/s \n",
            "\u001b[?25hRequirement already satisfied: pytz>=2017.2 in /usr/local/lib/python3.7/dist-packages (from pandas->fxcmpy) (2018.9)\n",
            "Requirement already satisfied: python-dateutil>=2.7.3 in /usr/local/lib/python3.7/dist-packages (from pandas->fxcmpy) (2.8.1)\n",
            "Requirement already satisfied: numpy>=1.15.4 in /usr/local/lib/python3.7/dist-packages (from pandas->fxcmpy) (1.19.5)\n",
            "Requirement already satisfied: idna<3,>=2.5 in /usr/local/lib/python3.7/dist-packages (from requests[socks]->fxcmpy) (2.10)\n",
            "Requirement already satisfied: urllib3!=1.25.0,!=1.25.1,<1.26,>=1.21.1 in /usr/local/lib/python3.7/dist-packages (from requests[socks]->fxcmpy) (1.24.3)\n",
            "Requirement already satisfied: chardet<4,>=3.0.2 in /usr/local/lib/python3.7/dist-packages (from requests[socks]->fxcmpy) (3.0.4)\n",
            "Requirement already satisfied: certifi>=2017.4.17 in /usr/local/lib/python3.7/dist-packages (from requests[socks]->fxcmpy) (2021.5.30)\n",
            "Requirement already satisfied: PySocks!=1.5.7,>=1.5.6; extra == \"socks\" in /usr/local/lib/python3.7/dist-packages (from requests[socks]->fxcmpy) (1.7.1)\n",
            "Collecting bidict>=0.21.0\n",
            "  Downloading https://files.pythonhosted.org/packages/67/d4/eaf9242722bf991e0955380dd6168020cb15a71cc0d3cc2373f4911b1f1d/bidict-0.21.2-py2.py3-none-any.whl\n",
            "Requirement already satisfied: six>=1.5 in /usr/local/lib/python3.7/dist-packages (from python-dateutil>=2.7.3->pandas->fxcmpy) (1.15.0)\n",
            "Installing collected packages: configparser, python-engineio, bidict, python-socketio, fxcmpy\n",
            "Successfully installed bidict-0.21.2 configparser-5.0.2 fxcmpy-1.2.9 python-engineio-4.2.0 python-socketio-5.3.0\n",
            "Collecting python-socketio==4.4\n",
            "\u001b[?25l  Downloading https://files.pythonhosted.org/packages/11/e0/71c90fbfc534108d0869ff5f92c16e4bc9b1347439b9022e815c03ff4193/python_socketio-4.4.0-py2.py3-none-any.whl (50kB)\n",
            "\u001b[K     |████████████████████████████████| 51kB 4.0MB/s \n",
            "\u001b[?25hRequirement already satisfied: six>=1.9.0 in /usr/local/lib/python3.7/dist-packages (from python-socketio==4.4) (1.15.0)\n",
            "Requirement already satisfied: python-engineio>=3.9.0 in /usr/local/lib/python3.7/dist-packages (from python-socketio==4.4) (4.2.0)\n",
            "Installing collected packages: python-socketio\n",
            "  Found existing installation: python-socketio 5.3.0\n",
            "    Uninstalling python-socketio-5.3.0:\n",
            "      Successfully uninstalled python-socketio-5.3.0\n",
            "Successfully installed python-socketio-4.4.0\n",
            "Collecting python-engineio==3.9\n",
            "\u001b[?25l  Downloading https://files.pythonhosted.org/packages/3d/96/b7c61073023569efa30b17ad9115aa4c0489df5b2bf81b896e80d8e2b573/python_engineio-3.9.0-py2.py3-none-any.whl (119kB)\n",
            "\u001b[K     |████████████████████████████████| 122kB 7.8MB/s \n",
            "\u001b[?25hRequirement already satisfied: six>=1.9.0 in /usr/local/lib/python3.7/dist-packages (from python-engineio==3.9) (1.15.0)\n",
            "Installing collected packages: python-engineio\n",
            "  Found existing installation: python-engineio 4.2.0\n",
            "    Uninstalling python-engineio-4.2.0:\n",
            "      Successfully uninstalled python-engineio-4.2.0\n",
            "Successfully installed python-engineio-3.9.0\n",
            "Collecting websocket-client\n",
            "\u001b[?25l  Downloading https://files.pythonhosted.org/packages/ca/5f/3c211d168b2e9f9342cfb53bcfc26aab0eac63b998015e7af7bcae66119d/websocket_client-1.1.0-py2.py3-none-any.whl (68kB)\n",
            "\u001b[K     |████████████████████████████████| 71kB 4.9MB/s \n",
            "\u001b[?25hInstalling collected packages: websocket-client\n",
            "Successfully installed websocket-client-1.1.0\n"
          ],
          "name": "stdout"
        }
      ]
    },
    {
      "cell_type": "code",
      "metadata": {
        "colab": {
          "base_uri": "https://localhost:8080/"
        },
        "id": "GlAJ8CnnIgYI",
        "outputId": "27860d5e-416f-4aa9-d824-45c0a58ecb23"
      },
      "source": [
        "import fxcmpy\n",
        "import pandas as pd\n",
        "import datetime as dt\n",
        "con = fxcmpy.fxcmpy(access_token='756ee141f0ecef74f4bd03d72f81c4754770a134')"
      ],
      "execution_count": 3,
      "outputs": [
        {
          "output_type": "stream",
          "text": [
            "|WARNING|2021-07-07 09:24:09,374|Default account set to 514140, to change use set_default_account().\n"
          ],
          "name": "stderr"
        }
      ]
    },
    {
      "cell_type": "code",
      "metadata": {
        "id": "UEfRpXacJFom"
      },
      "source": [
        "\n",
        "def print_data(data, dataframe):\n",
        "    print('%3d | %s | %s, %s, %s, %s, %s'\n",
        "          % (len(dataframe), data['Symbol'],\n",
        "             pd.to_datetime(int(data['Updated']), unit='ms'),\n",
        "             data['Rates'][0], data['Rates'][1], data['Rates'][2],\n",
        "             data['Rates'][3]))"
      ],
      "execution_count": 4,
      "outputs": []
    },
    {
      "cell_type": "code",
      "metadata": {
        "id": "BBszcinlJRTU"
      },
      "source": [
        "con.subscribe_market_data('XAU/USD', (print_data,))"
      ],
      "execution_count": 5,
      "outputs": []
    },
    {
      "cell_type": "code",
      "metadata": {
        "colab": {
          "base_uri": "https://localhost:8080/"
        },
        "id": "SsJlRRCESK8m",
        "outputId": "c0e52212-8f9b-4814-960f-6976b6906484"
      },
      "source": [
        "con.subscribe_market_data('XAU/USD', (print_data,))"
      ],
      "execution_count": 6,
      "outputs": [
        {
          "output_type": "stream",
          "text": [
            " 19 | XAU/USD | 2021-07-07 09:24:51.406000, 1804.42, 1804.71, 1807.99, 1793.74\n"
          ],
          "name": "stdout"
        }
      ]
    },
    {
      "cell_type": "code",
      "metadata": {
        "id": "bhqXqJQQJV8k"
      },
      "source": [
        "\n",
        "con.unsubscribe_market_data('XAU/USD')"
      ],
      "execution_count": 7,
      "outputs": []
    },
    {
      "cell_type": "code",
      "metadata": {
        "id": "B2dEr3d4KCyD"
      },
      "source": [
        "con.close()"
      ],
      "execution_count": 8,
      "outputs": []
    }
  ]
}