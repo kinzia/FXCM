{
  "nbformat": 4,
  "nbformat_minor": 0,
  "metadata": {
    "colab": {
      "name": "FXCM.ipynb",
      "provenance": [],
      "authorship_tag": "ABX9TyPDaKazcVpKaHxvKWj533UO",
      "include_colab_link": true
    },
    "kernelspec": {
      "name": "python3",
      "display_name": "Python 3"
    },
    "language_info": {
      "name": "python"
    }
  },
  "cells": [
    {
      "cell_type": "markdown",
      "metadata": {
        "id": "view-in-github",
        "colab_type": "text"
      },
      "source": [
        "<a href=\"https://colab.research.google.com/github/kinzia/FXCM/blob/main/FXCM.ipynb\" target=\"_parent\"><img src=\"https://colab.research.google.com/assets/colab-badge.svg\" alt=\"Open In Colab\"/></a>"
      ]
    },
    {
      "cell_type": "code",
      "metadata": {
        "colab": {
          "base_uri": "https://localhost:8080/"
        },
        "id": "Vd5RP1t9HTUZ",
        "outputId": "379b7a8f-9469-4d54-a89e-c2b37047d441"
      },
      "source": [
        "!pip install fxcmpy\n",
        "!pip install python-socketio==4.4\n",
        "!pip install python-engineio==3.9\n",
        "!pip install websocket-client"
      ],
      "execution_count": null,
      "outputs": [
        {
          "output_type": "stream",
          "text": [
            "Collecting fxcmpy\n",
            "  Downloading https://files.pythonhosted.org/packages/25/2e/ccebeab5fe133c0c903117cb83e96f3e851458ca89010eb6fc2413cf4ac8/fxcmpy-1.2.9-py3-none-any.whl\n",
            "Collecting configparser\n",
            "  Downloading https://files.pythonhosted.org/packages/fd/01/ff260a18caaf4457eb028c96eeb405c4a230ca06c8ec9c1379f813caa52e/configparser-5.0.2-py3-none-any.whl\n",
            "Collecting python-socketio\n",
            "\u001b[?25l  Downloading https://files.pythonhosted.org/packages/d9/e8/00978e9a578e0727c902efaf69ee98be702adee61c9d2966e0eec257d0a3/python_socketio-5.3.0-py2.py3-none-any.whl (53kB)\n",
            "\u001b[K     |████████████████████████████████| 61kB 3.9MB/s \n",
            "\u001b[?25hRequirement already satisfied: requests[socks] in /usr/local/lib/python3.7/dist-packages (from fxcmpy) (2.23.0)\n",
            "Requirement already satisfied: pandas in /usr/local/lib/python3.7/dist-packages (from fxcmpy) (1.1.5)\n",
            "Collecting python-engineio\n",
            "\u001b[?25l  Downloading https://files.pythonhosted.org/packages/07/2b/d51f2ddd6e4a4b8aca044b23a16ca1ab0d47cc7a4b0b99dab4f047780795/python_engineio-4.2.0-py2.py3-none-any.whl (51kB)\n",
            "\u001b[K     |████████████████████████████████| 61kB 4.8MB/s \n",
            "\u001b[?25hCollecting bidict>=0.21.0\n",
            "  Downloading https://files.pythonhosted.org/packages/67/d4/eaf9242722bf991e0955380dd6168020cb15a71cc0d3cc2373f4911b1f1d/bidict-0.21.2-py2.py3-none-any.whl\n",
            "Requirement already satisfied: certifi>=2017.4.17 in /usr/local/lib/python3.7/dist-packages (from requests[socks]->fxcmpy) (2021.5.30)\n",
            "Requirement already satisfied: chardet<4,>=3.0.2 in /usr/local/lib/python3.7/dist-packages (from requests[socks]->fxcmpy) (3.0.4)\n",
            "Requirement already satisfied: urllib3!=1.25.0,!=1.25.1,<1.26,>=1.21.1 in /usr/local/lib/python3.7/dist-packages (from requests[socks]->fxcmpy) (1.24.3)\n",
            "Requirement already satisfied: idna<3,>=2.5 in /usr/local/lib/python3.7/dist-packages (from requests[socks]->fxcmpy) (2.10)\n",
            "Requirement already satisfied: PySocks!=1.5.7,>=1.5.6; extra == \"socks\" in /usr/local/lib/python3.7/dist-packages (from requests[socks]->fxcmpy) (1.7.1)\n",
            "Requirement already satisfied: python-dateutil>=2.7.3 in /usr/local/lib/python3.7/dist-packages (from pandas->fxcmpy) (2.8.1)\n",
            "Requirement already satisfied: numpy>=1.15.4 in /usr/local/lib/python3.7/dist-packages (from pandas->fxcmpy) (1.19.5)\n",
            "Requirement already satisfied: pytz>=2017.2 in /usr/local/lib/python3.7/dist-packages (from pandas->fxcmpy) (2018.9)\n",
            "Requirement already satisfied: six>=1.5 in /usr/local/lib/python3.7/dist-packages (from python-dateutil>=2.7.3->pandas->fxcmpy) (1.15.0)\n",
            "Installing collected packages: configparser, bidict, python-engineio, python-socketio, fxcmpy\n",
            "Successfully installed bidict-0.21.2 configparser-5.0.2 fxcmpy-1.2.9 python-engineio-4.2.0 python-socketio-5.3.0\n",
            "Collecting python-socketio==4.4\n",
            "\u001b[?25l  Downloading https://files.pythonhosted.org/packages/11/e0/71c90fbfc534108d0869ff5f92c16e4bc9b1347439b9022e815c03ff4193/python_socketio-4.4.0-py2.py3-none-any.whl (50kB)\n",
            "\u001b[K     |████████████████████████████████| 51kB 2.4MB/s \n",
            "\u001b[?25hRequirement already satisfied: python-engineio>=3.9.0 in /usr/local/lib/python3.7/dist-packages (from python-socketio==4.4) (4.2.0)\n",
            "Requirement already satisfied: six>=1.9.0 in /usr/local/lib/python3.7/dist-packages (from python-socketio==4.4) (1.15.0)\n",
            "Installing collected packages: python-socketio\n",
            "  Found existing installation: python-socketio 5.3.0\n",
            "    Uninstalling python-socketio-5.3.0:\n",
            "      Successfully uninstalled python-socketio-5.3.0\n",
            "Successfully installed python-socketio-4.4.0\n",
            "Collecting python-engineio==3.9\n",
            "\u001b[?25l  Downloading https://files.pythonhosted.org/packages/3d/96/b7c61073023569efa30b17ad9115aa4c0489df5b2bf81b896e80d8e2b573/python_engineio-3.9.0-py2.py3-none-any.whl (119kB)\n",
            "\u001b[K     |████████████████████████████████| 122kB 4.4MB/s \n",
            "\u001b[?25hRequirement already satisfied: six>=1.9.0 in /usr/local/lib/python3.7/dist-packages (from python-engineio==3.9) (1.15.0)\n",
            "Installing collected packages: python-engineio\n",
            "  Found existing installation: python-engineio 4.2.0\n",
            "    Uninstalling python-engineio-4.2.0:\n",
            "      Successfully uninstalled python-engineio-4.2.0\n",
            "Successfully installed python-engineio-3.9.0\n",
            "Collecting websocket-client\n",
            "\u001b[?25l  Downloading https://files.pythonhosted.org/packages/ca/5f/3c211d168b2e9f9342cfb53bcfc26aab0eac63b998015e7af7bcae66119d/websocket_client-1.1.0-py2.py3-none-any.whl (68kB)\n",
            "\u001b[K     |████████████████████████████████| 71kB 3.2MB/s \n",
            "\u001b[?25hInstalling collected packages: websocket-client\n",
            "Successfully installed websocket-client-1.1.0\n"
          ],
          "name": "stdout"
        }
      ]
    },
    {
      "cell_type": "code",
      "metadata": {
        "colab": {
          "base_uri": "https://localhost:8080/"
        },
        "id": "GlAJ8CnnIgYI",
        "outputId": "23498e1c-d142-435d-daca-0f6a9cd15ec1"
      },
      "source": [
        "import fxcmpy\n",
        "import pandas as pd\n",
        "import datetime as dt\n",
        "con = fxcmpy.fxcmpy(access_token='756ee141f0ecef74f4bd03d72f81c4754770a134')"
      ],
      "execution_count": null,
      "outputs": [
        {
          "output_type": "stream",
          "text": [
            "|WARNING|2021-07-07 04:05:49,615|Default account set to 514140, to change use set_default_account().\n"
          ],
          "name": "stderr"
        }
      ]
    },
    {
      "cell_type": "code",
      "metadata": {
        "id": "UEfRpXacJFom"
      },
      "source": [
        "\n",
        "def print_data(data, dataframe):\n",
        "    print('%3d | %s | %s, %s, %s, %s, %s'\n",
        "          % (len(dataframe), data['Symbol'],\n",
        "             pd.to_datetime(int(data['Updated']), unit='ms'),\n",
        "             data['Rates'][0], data['Rates'][1], data['Rates'][2],\n",
        "             data['Rates'][3]))"
      ],
      "execution_count": null,
      "outputs": []
    },
    {
      "cell_type": "code",
      "metadata": {
        "id": "BBszcinlJRTU"
      },
      "source": [
        "con.subscribe_market_data('XAU/USD', (print_data,))"
      ],
      "execution_count": null,
      "outputs": []
    },
    {
      "cell_type": "code",
      "metadata": {
        "id": "bhqXqJQQJV8k"
      },
      "source": [
        "\n",
        "con.unsubscribe_market_data('XAU/USD')"
      ],
      "execution_count": null,
      "outputs": []
    },
    {
      "cell_type": "code",
      "metadata": {
        "id": "_urMaxxdJqgI"
      },
      "source": [
        "con.subscribe_market_data('XAU/USD')"
      ],
      "execution_count": null,
      "outputs": []
    },
    {
      "cell_type": "code",
      "metadata": {
        "colab": {
          "base_uri": "https://localhost:8080/"
        },
        "id": "GotWHRO-JsmF",
        "outputId": "904df8c0-7e22-4baf-8ff2-c76bb4b8c4cc"
      },
      "source": [
        "\n",
        "con.get_subscribed_symbols()"
      ],
      "execution_count": null,
      "outputs": [
        {
          "output_type": "execute_result",
          "data": {
            "text/plain": [
              "['XAU/USD']"
            ]
          },
          "metadata": {
            "tags": []
          },
          "execution_count": 20
        }
      ]
    },
    {
      "cell_type": "code",
      "metadata": {
        "colab": {
          "base_uri": "https://localhost:8080/",
          "height": 607
        },
        "id": "2ySfysz_JwfK",
        "outputId": "c2a0f9a6-db3b-4acb-ec16-c5f46fe2bcc1"
      },
      "source": [
        "con.get_prices('XAU/USD')"
      ],
      "execution_count": null,
      "outputs": [
        {
          "output_type": "execute_result",
          "data": {
            "text/html": [
              "<div>\n",
              "<style scoped>\n",
              "    .dataframe tbody tr th:only-of-type {\n",
              "        vertical-align: middle;\n",
              "    }\n",
              "\n",
              "    .dataframe tbody tr th {\n",
              "        vertical-align: top;\n",
              "    }\n",
              "\n",
              "    .dataframe thead th {\n",
              "        text-align: right;\n",
              "    }\n",
              "</style>\n",
              "<table border=\"1\" class=\"dataframe\">\n",
              "  <thead>\n",
              "    <tr style=\"text-align: right;\">\n",
              "      <th></th>\n",
              "      <th>Bid</th>\n",
              "      <th>Ask</th>\n",
              "      <th>High</th>\n",
              "      <th>Low</th>\n",
              "    </tr>\n",
              "  </thead>\n",
              "  <tbody>\n",
              "    <tr>\n",
              "      <th>2021-07-07 04:08:04.806</th>\n",
              "      <td>1800.47</td>\n",
              "      <td>1801.00</td>\n",
              "      <td>1803.22</td>\n",
              "      <td>1793.74</td>\n",
              "    </tr>\n",
              "    <tr>\n",
              "      <th>2021-07-07 04:08:09.017</th>\n",
              "      <td>1800.51</td>\n",
              "      <td>1801.02</td>\n",
              "      <td>1803.22</td>\n",
              "      <td>1793.74</td>\n",
              "    </tr>\n",
              "    <tr>\n",
              "      <th>2021-07-07 04:08:09.723</th>\n",
              "      <td>1800.51</td>\n",
              "      <td>1801.01</td>\n",
              "      <td>1803.22</td>\n",
              "      <td>1793.74</td>\n",
              "    </tr>\n",
              "    <tr>\n",
              "      <th>2021-07-07 04:08:13.684</th>\n",
              "      <td>1800.51</td>\n",
              "      <td>1801.02</td>\n",
              "      <td>1803.22</td>\n",
              "      <td>1793.74</td>\n",
              "    </tr>\n",
              "    <tr>\n",
              "      <th>2021-07-07 04:08:18.512</th>\n",
              "      <td>1800.51</td>\n",
              "      <td>1800.99</td>\n",
              "      <td>1803.22</td>\n",
              "      <td>1793.74</td>\n",
              "    </tr>\n",
              "    <tr>\n",
              "      <th>2021-07-07 04:08:19.108</th>\n",
              "      <td>1800.51</td>\n",
              "      <td>1801.02</td>\n",
              "      <td>1803.22</td>\n",
              "      <td>1793.74</td>\n",
              "    </tr>\n",
              "    <tr>\n",
              "      <th>2021-07-07 04:08:19.837</th>\n",
              "      <td>1800.42</td>\n",
              "      <td>1800.95</td>\n",
              "      <td>1803.22</td>\n",
              "      <td>1793.74</td>\n",
              "    </tr>\n",
              "    <tr>\n",
              "      <th>2021-07-07 04:08:20.243</th>\n",
              "      <td>1800.42</td>\n",
              "      <td>1800.95</td>\n",
              "      <td>1803.22</td>\n",
              "      <td>1793.74</td>\n",
              "    </tr>\n",
              "    <tr>\n",
              "      <th>2021-07-07 04:08:28.404</th>\n",
              "      <td>1800.44</td>\n",
              "      <td>1800.97</td>\n",
              "      <td>1803.22</td>\n",
              "      <td>1793.74</td>\n",
              "    </tr>\n",
              "    <tr>\n",
              "      <th>2021-07-07 04:08:28.966</th>\n",
              "      <td>1800.41</td>\n",
              "      <td>1800.94</td>\n",
              "      <td>1803.22</td>\n",
              "      <td>1793.74</td>\n",
              "    </tr>\n",
              "    <tr>\n",
              "      <th>2021-07-07 04:08:31.344</th>\n",
              "      <td>1800.41</td>\n",
              "      <td>1800.92</td>\n",
              "      <td>1803.22</td>\n",
              "      <td>1793.74</td>\n",
              "    </tr>\n",
              "    <tr>\n",
              "      <th>2021-07-07 04:08:32.198</th>\n",
              "      <td>1800.40</td>\n",
              "      <td>1800.90</td>\n",
              "      <td>1803.22</td>\n",
              "      <td>1793.74</td>\n",
              "    </tr>\n",
              "    <tr>\n",
              "      <th>2021-07-07 04:08:34.122</th>\n",
              "      <td>1800.41</td>\n",
              "      <td>1800.92</td>\n",
              "      <td>1803.22</td>\n",
              "      <td>1793.74</td>\n",
              "    </tr>\n",
              "    <tr>\n",
              "      <th>2021-07-07 04:08:35.907</th>\n",
              "      <td>1800.45</td>\n",
              "      <td>1800.94</td>\n",
              "      <td>1803.22</td>\n",
              "      <td>1793.74</td>\n",
              "    </tr>\n",
              "    <tr>\n",
              "      <th>2021-07-07 04:08:36.004</th>\n",
              "      <td>1800.45</td>\n",
              "      <td>1800.98</td>\n",
              "      <td>1803.22</td>\n",
              "      <td>1793.74</td>\n",
              "    </tr>\n",
              "    <tr>\n",
              "      <th>2021-07-07 04:08:36.847</th>\n",
              "      <td>1800.45</td>\n",
              "      <td>1800.98</td>\n",
              "      <td>1803.22</td>\n",
              "      <td>1793.74</td>\n",
              "    </tr>\n",
              "    <tr>\n",
              "      <th>2021-07-07 04:08:37.182</th>\n",
              "      <td>1800.45</td>\n",
              "      <td>1800.99</td>\n",
              "      <td>1803.22</td>\n",
              "      <td>1793.74</td>\n",
              "    </tr>\n",
              "    <tr>\n",
              "      <th>2021-07-07 04:08:39.614</th>\n",
              "      <td>1800.47</td>\n",
              "      <td>1800.97</td>\n",
              "      <td>1803.22</td>\n",
              "      <td>1793.74</td>\n",
              "    </tr>\n",
              "  </tbody>\n",
              "</table>\n",
              "</div>"
            ],
            "text/plain": [
              "                             Bid      Ask     High      Low\n",
              "2021-07-07 04:08:04.806  1800.47  1801.00  1803.22  1793.74\n",
              "2021-07-07 04:08:09.017  1800.51  1801.02  1803.22  1793.74\n",
              "2021-07-07 04:08:09.723  1800.51  1801.01  1803.22  1793.74\n",
              "2021-07-07 04:08:13.684  1800.51  1801.02  1803.22  1793.74\n",
              "2021-07-07 04:08:18.512  1800.51  1800.99  1803.22  1793.74\n",
              "2021-07-07 04:08:19.108  1800.51  1801.02  1803.22  1793.74\n",
              "2021-07-07 04:08:19.837  1800.42  1800.95  1803.22  1793.74\n",
              "2021-07-07 04:08:20.243  1800.42  1800.95  1803.22  1793.74\n",
              "2021-07-07 04:08:28.404  1800.44  1800.97  1803.22  1793.74\n",
              "2021-07-07 04:08:28.966  1800.41  1800.94  1803.22  1793.74\n",
              "2021-07-07 04:08:31.344  1800.41  1800.92  1803.22  1793.74\n",
              "2021-07-07 04:08:32.198  1800.40  1800.90  1803.22  1793.74\n",
              "2021-07-07 04:08:34.122  1800.41  1800.92  1803.22  1793.74\n",
              "2021-07-07 04:08:35.907  1800.45  1800.94  1803.22  1793.74\n",
              "2021-07-07 04:08:36.004  1800.45  1800.98  1803.22  1793.74\n",
              "2021-07-07 04:08:36.847  1800.45  1800.98  1803.22  1793.74\n",
              "2021-07-07 04:08:37.182  1800.45  1800.99  1803.22  1793.74\n",
              "2021-07-07 04:08:39.614  1800.47  1800.97  1803.22  1793.74"
            ]
          },
          "metadata": {
            "tags": []
          },
          "execution_count": 12
        }
      ]
    },
    {
      "cell_type": "code",
      "metadata": {
        "colab": {
          "base_uri": "https://localhost:8080/"
        },
        "id": "DWjyKwAtJ6vA",
        "outputId": "99e3a27a-1c93-46e9-dc25-83938fd585df"
      },
      "source": [
        "con.subscribe_market_data('XAU/USD', (print_data,))"
      ],
      "execution_count": null,
      "outputs": [
        {
          "output_type": "stream",
          "text": [
            " 11 | XAU/USD | 2021-07-07 04:11:13.785000, 1800.62, 1801.09, 1803.22, 1793.74\n"
          ],
          "name": "stdout"
        }
      ]
    },
    {
      "cell_type": "code",
      "metadata": {
        "colab": {
          "base_uri": "https://localhost:8080/"
        },
        "id": "nOOtbzu_J8o0",
        "outputId": "7529caf9-7e53-4f01-98af-a617416a83e7"
      },
      "source": [
        "con.unsubscribe_market_data('XAU/USD')"
      ],
      "execution_count": null,
      "outputs": [
        {
          "output_type": "stream",
          "text": [
            " 17 | XAU/USD | 2021-07-07 04:11:21.739000, 1800.83, 1801.28, 1803.22, 1793.74\n"
          ],
          "name": "stdout"
        }
      ]
    },
    {
      "cell_type": "code",
      "metadata": {
        "id": "B2dEr3d4KCyD"
      },
      "source": [
        "con.close()"
      ],
      "execution_count": null,
      "outputs": []
    },
    {
      "cell_type": "code",
      "metadata": {
        "id": "uLDe4nv3KkGI"
      },
      "source": [
        ""
      ],
      "execution_count": null,
      "outputs": []
    }
  ]
}